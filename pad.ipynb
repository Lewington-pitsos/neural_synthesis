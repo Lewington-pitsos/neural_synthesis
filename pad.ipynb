{
 "cells": [
  {
   "cell_type": "code",
   "execution_count": null,
   "metadata": {},
   "outputs": [],
   "source": [
    "import torch\n",
    "import numpy as np"
   ]
  },
  {
   "cell_type": "code",
   "execution_count": null,
   "metadata": {},
   "outputs": [],
   "source": [
    "o = torch.randn(4, 4)"
   ]
  },
  {
   "cell_type": "code",
   "execution_count": null,
   "metadata": {},
   "outputs": [],
   "source": [
    "o"
   ]
  },
  {
   "cell_type": "code",
   "execution_count": null,
   "metadata": {},
   "outputs": [],
   "source": [
    "nump = o.numpy()\n",
    "nump"
   ]
  },
  {
   "cell_type": "code",
   "execution_count": null,
   "metadata": {},
   "outputs": [],
   "source": [
    "roll_down = np.roll(nump, 1, 0)\n",
    "roll_down[:][0] = 0\n",
    "print(roll_down)"
   ]
  },
  {
   "cell_type": "code",
   "execution_count": 187,
   "metadata": {},
   "outputs": [
    {
     "data": {
      "text/plain": [
       "array([[ 0.        ,  0.        ],\n",
       "       [ 0.18189748, -0.41627452],\n",
       "       [ 0.        ,  0.        ]], dtype=float32)"
      ]
     },
     "execution_count": 187,
     "metadata": {},
     "output_type": "execute_result"
    }
   ],
   "source": [
    "np.delete(nump, 0, axis=1)"
   ]
  },
  {
   "cell_type": "code",
   "execution_count": 212,
   "metadata": {},
   "outputs": [
    {
     "name": "stdout",
     "output_type": "stream",
     "text": [
      "tensor([[[ 1.5201, -2.0614, -0.8570, -0.2831],\n",
      "         [ 0.2077,  2.1475, -0.8182, -0.6065],\n",
      "         [-1.2676,  1.3903, -0.4679,  0.5685],\n",
      "         [ 2.3777, -0.8229, -1.0575, -0.6809]],\n",
      "\n",
      "        [[ 0.2426, -0.0750, -0.4401,  1.5727],\n",
      "         [-0.9485,  1.4653,  0.1893,  1.0930],\n",
      "         [-0.0377,  0.4257,  0.1751,  0.2468],\n",
      "         [-1.0561, -0.3691, -2.0849,  0.2881]],\n",
      "\n",
      "        [[ 0.0785, -0.6489, -1.9429, -0.8210],\n",
      "         [-1.3113,  0.3713, -0.5422,  0.7051],\n",
      "         [-0.3359, -0.8008,  0.1457, -1.5719],\n",
      "         [-1.0904,  0.5354, -0.4981, -0.1492]],\n",
      "\n",
      "        [[-1.8082, -0.3415,  0.1009, -0.1306],\n",
      "         [ 1.8391,  0.9665, -0.8547, -0.8497],\n",
      "         [ 0.2031,  0.0934,  0.8377, -1.9042],\n",
      "         [ 0.9570, -0.7310,  0.0378, -1.8152]]])\n",
      "[[[ 2.1475134  -0.81821984]\n",
      "  [ 1.3902589  -0.467919  ]]\n",
      "\n",
      " [[ 1.465297    0.18930191]\n",
      "  [ 0.42566073  0.17510444]]\n",
      "\n",
      " [[ 0.3712773  -0.5421596 ]\n",
      "  [-0.80078125  0.14570518]]\n",
      "\n",
      " [[ 0.9664796  -0.8546726 ]\n",
      "  [ 0.0933779   0.83774704]]]\n"
     ]
    },
    {
     "data": {
      "text/plain": [
       "tensor([[[ 0.0000,  0.0000,  0.0000,  0.0000],\n",
       "         [ 0.0000,  2.1475, -0.8182,  0.0000],\n",
       "         [ 0.0000,  1.3903, -0.4679,  0.0000],\n",
       "         [ 0.0000,  0.0000,  0.0000,  0.0000]],\n",
       "\n",
       "        [[ 0.0000,  0.0000,  0.0000,  0.0000],\n",
       "         [ 0.0000,  1.4653,  0.1893,  0.0000],\n",
       "         [ 0.0000,  0.4257,  0.1751,  0.0000],\n",
       "         [ 0.0000,  0.0000,  0.0000,  0.0000]],\n",
       "\n",
       "        [[ 0.0000,  0.0000,  0.0000,  0.0000],\n",
       "         [ 0.0000,  0.3713, -0.5422,  0.0000],\n",
       "         [ 0.0000, -0.8008,  0.1457,  0.0000],\n",
       "         [ 0.0000,  0.0000,  0.0000,  0.0000]],\n",
       "\n",
       "        [[ 0.0000,  0.0000,  0.0000,  0.0000],\n",
       "         [ 0.0000,  0.9665, -0.8547,  0.0000],\n",
       "         [ 0.0000,  0.0934,  0.8377,  0.0000],\n",
       "         [ 0.0000,  0.0000,  0.0000,  0.0000]]])"
      ]
     },
     "execution_count": 212,
     "metadata": {},
     "output_type": "execute_result"
    }
   ],
   "source": [
    "def thinned(tensor, axis_offset=0):\n",
    "    \"\"\"\n",
    "    Accepts a tensor. Returns a clone of that tensor with edge\n",
    "    values raplced with 0's. Axis offset is used for tensors with\n",
    "    > 2 dimensions.\n",
    "    \"\"\"\n",
    "    x_axis = 0 + axis_offset\n",
    "    y_axis = 1 + axis_offset\n",
    "    \n",
    "    ndarray = tensor.numpy()\n",
    "    ndarray = np.delete(ndarray, 0, axis=x_axis)\n",
    "    ndarray = np.delete(ndarray, 0, axis=y_axis)\n",
    "    ndarray = np.delete(ndarray, -1, axis=x_axis)\n",
    "    ndarray = np.delete(ndarray, -1, axis=y_axis)\n",
    "    \n",
    "    padding_tuples = [(0, 0) for i in range(axis_offset)] + [(1, 1), (1, 1)]\n",
    "    \n",
    "    return torch.from_numpy(np.pad(ndarray, padding_tuples, \"constant\"))\n",
    "o = torch.randn(4, 4, 4)\n",
    "print(o)\n",
    "thinned(o, 1)"
   ]
  },
  {
   "cell_type": "code",
   "execution_count": null,
   "metadata": {},
   "outputs": [],
   "source": [
    "def shifted(tensor, distance, axis):\n",
    "    \"\"\"\n",
    "    Accepts a tensor. Returns a clonde of that tensor shifted\n",
    "    by the given distance along the given axis.\n",
    "    \"\"\"\n",
    "    ndarray = tensor.numpy()\n",
    "    return torch.from_numpy(np.roll(ndarray, distance, axis))\n",
    "\n",
    "shifted(s, (1, -1), (0, 1))"
   ]
  },
  {
   "cell_type": "code",
   "execution_count": 214,
   "metadata": {
    "scrolled": false
   },
   "outputs": [],
   "source": [
    "def all_shifts(tensor, axis_offset=0):\n",
    "    \n",
    "    thinned_tensor = thinned(tensor, axis_offset)\n",
    "    \n",
    "    shifts = []\n",
    "    for offset in [(-1, 0), (1, 0), (0, -1), (0, 1), (-1, -1), (1, -1), (-1, 1), (1, 1)]:\n",
    "        shifts.append(shifted(thinned_tensor, offset, (0 + axis_offset, 1 + axis_offset)))\n",
    "    \n",
    "    return torch.stack(shifts)"
   ]
  },
  {
   "cell_type": "code",
   "execution_count": 174,
   "metadata": {},
   "outputs": [
    {
     "name": "stdout",
     "output_type": "stream",
     "text": [
      "torch.Size([4, 4])\n",
      "torch.Size([8, 4, 4])\n",
      "tensor([[[ 0.6503,  2.4986,  1.5485, -0.5211],\n",
      "         [ 0.3640, -2.0444, -0.7561, -1.9755],\n",
      "         [ 0.3896,  0.6581, -1.0253,  0.7658],\n",
      "         [ 2.5350,  0.5250,  0.3425, -0.6042]],\n",
      "\n",
      "        [[ 0.6503,  1.1124, -0.2329, -0.5211],\n",
      "         [ 0.3640, -1.3862, -1.7814, -1.9755],\n",
      "         [ 0.3896,  2.0444,  0.7561,  0.7658],\n",
      "         [ 2.5350, -0.1331,  1.3678, -0.6042]],\n",
      "\n",
      "        [[ 0.6503,  1.1124, -0.2329, -0.5211],\n",
      "         [ 1.7502,  0.3952, -1.7814, -1.9755],\n",
      "         [-0.2685,  1.6834, -1.0253,  0.7658],\n",
      "         [ 2.5350,  0.5250,  0.3425, -0.6042]],\n",
      "\n",
      "        [[ 0.6503,  1.1124, -0.2329, -0.5211],\n",
      "         [ 0.3640, -1.3862, -0.3952, -0.1941],\n",
      "         [ 0.3896,  0.6581, -1.6834,  1.7911],\n",
      "         [ 2.5350,  0.5250,  0.3425, -0.6042]],\n",
      "\n",
      "        [[ 2.0365,  2.8938, -0.2329, -0.5211],\n",
      "         [-0.2941, -0.3609, -1.7814, -1.9755],\n",
      "         [ 0.3896,  0.6581, -1.0253,  0.7658],\n",
      "         [ 2.5350,  0.5250,  0.3425, -0.6042]],\n",
      "\n",
      "        [[ 0.6503,  1.1124, -0.2329, -0.5211],\n",
      "         [ 0.3640, -1.3862, -1.7814, -1.9755],\n",
      "         [ 1.7759,  2.4396, -1.0253,  0.7658],\n",
      "         [ 1.8768,  1.5503,  0.3425, -0.6042]],\n",
      "\n",
      "        [[ 0.6503,  1.1124,  1.1533,  1.2604],\n",
      "         [ 0.3640, -1.3862, -2.4396, -0.9502],\n",
      "         [ 0.3896,  0.6581, -1.0253,  0.7658],\n",
      "         [ 2.5350,  0.5250,  0.3425, -0.6042]],\n",
      "\n",
      "        [[ 0.6503,  1.1124, -0.2329, -0.5211],\n",
      "         [ 0.3640, -1.3862, -1.7814, -1.9755],\n",
      "         [ 0.3896,  0.6581,  0.3609,  2.5472],\n",
      "         [ 2.5350,  0.5250, -0.3156,  0.4211]]])\n",
      "tensor([[[ 0.0000, -1.3862, -1.7814,  0.0000],\n",
      "         [ 0.0000,  0.6581, -1.0253,  0.0000],\n",
      "         [ 0.0000,  0.0000,  0.0000,  0.0000],\n",
      "         [ 0.0000,  0.0000,  0.0000,  0.0000]],\n",
      "\n",
      "        [[ 0.0000,  0.0000,  0.0000,  0.0000],\n",
      "         [ 0.0000,  0.0000,  0.0000,  0.0000],\n",
      "         [ 0.0000, -1.3862, -1.7814,  0.0000],\n",
      "         [ 0.0000,  0.6581, -1.0253,  0.0000]],\n",
      "\n",
      "        [[ 0.0000,  0.0000,  0.0000,  0.0000],\n",
      "         [-1.3862, -1.7814,  0.0000,  0.0000],\n",
      "         [ 0.6581, -1.0253,  0.0000,  0.0000],\n",
      "         [ 0.0000,  0.0000,  0.0000,  0.0000]],\n",
      "\n",
      "        [[ 0.0000,  0.0000,  0.0000,  0.0000],\n",
      "         [ 0.0000,  0.0000, -1.3862, -1.7814],\n",
      "         [ 0.0000,  0.0000,  0.6581, -1.0253],\n",
      "         [ 0.0000,  0.0000,  0.0000,  0.0000]],\n",
      "\n",
      "        [[-1.3862, -1.7814,  0.0000,  0.0000],\n",
      "         [ 0.6581, -1.0253,  0.0000,  0.0000],\n",
      "         [ 0.0000,  0.0000,  0.0000,  0.0000],\n",
      "         [ 0.0000,  0.0000,  0.0000,  0.0000]],\n",
      "\n",
      "        [[ 0.0000,  0.0000,  0.0000,  0.0000],\n",
      "         [ 0.0000,  0.0000,  0.0000,  0.0000],\n",
      "         [-1.3862, -1.7814,  0.0000,  0.0000],\n",
      "         [ 0.6581, -1.0253,  0.0000,  0.0000]],\n",
      "\n",
      "        [[ 0.0000,  0.0000, -1.3862, -1.7814],\n",
      "         [ 0.0000,  0.0000,  0.6581, -1.0253],\n",
      "         [ 0.0000,  0.0000,  0.0000,  0.0000],\n",
      "         [ 0.0000,  0.0000,  0.0000,  0.0000]],\n",
      "\n",
      "        [[ 0.0000,  0.0000,  0.0000,  0.0000],\n",
      "         [ 0.0000,  0.0000,  0.0000,  0.0000],\n",
      "         [ 0.0000,  0.0000, -1.3862, -1.7814],\n",
      "         [ 0.0000,  0.0000,  0.6581, -1.0253]]])\n"
     ]
    }
   ],
   "source": [
    "d = all_shifts(o)\n",
    "print(o.size())\n",
    "print(d.size())\n",
    "print(o.unsqueeze(0) - d)\n",
    "print(d)"
   ]
  },
  {
   "cell_type": "code",
   "execution_count": 173,
   "metadata": {},
   "outputs": [
    {
     "data": {
      "text/plain": [
       "tensor(1.8301)"
      ]
     },
     "execution_count": 173,
     "metadata": {},
     "output_type": "execute_result"
    }
   ],
   "source": [
    "d.std()\n",
    "np.exp(d.std())"
   ]
  },
  {
   "cell_type": "code",
   "execution_count": 218,
   "metadata": {},
   "outputs": [
    {
     "name": "stdout",
     "output_type": "stream",
     "text": [
      "torch.Size([4, 4, 4])\n",
      "[[[ 2.1475134  -0.81821984]\n",
      "  [ 1.3902589  -0.467919  ]]\n",
      "\n",
      " [[ 1.465297    0.18930191]\n",
      "  [ 0.42566073  0.17510444]]\n",
      "\n",
      " [[ 0.3712773  -0.5421596 ]\n",
      "  [-0.80078125  0.14570518]]\n",
      "\n",
      " [[ 0.9664796  -0.8546726 ]\n",
      "  [ 0.0933779   0.83774704]]]\n",
      "torch.Size([8, 4, 4, 4])\n",
      "torch.Size([8, 4, 4, 4])\n",
      "torch.Size([8, 4, 4, 4])\n",
      "torch.Size([8, 4, 4, 4])\n",
      "torch.Size([4, 4, 4])\n",
      "torch.Size([])\n"
     ]
    },
    {
     "data": {
      "text/plain": [
       "tensor(0.0071)"
      ]
     },
     "execution_count": 218,
     "metadata": {},
     "output_type": "execute_result"
    }
   ],
   "source": [
    "def smoothing_loss(tensor):\n",
    "    \"\"\"\n",
    "    Calculates smoothing factor loss according to \"Deep Correlations for Texture synthesis\"\n",
    "    \"\"\"\n",
    "    print(tensor.size()) # [M, Q]\n",
    "    axis_offset = tensor.dim() - 2\n",
    "    \n",
    "    shifts = all_shifts(tensor, axis_offset)\n",
    "    print(shifts.size()) # should be [8, M, Q]\n",
    "    \n",
    "    differences = tensor.unsqueeze(0) - shifts\n",
    "    print(differences.size())\n",
    "    \n",
    "    diff_sq = differences ** 2\n",
    "    print(diff_sq.size()) # should be [8, M, Q]\n",
    "    \n",
    "    diff_sq_std = diff_sq * (-tensor.std())\n",
    "    print(diff_sq_std.size()) # should be [8, M, Q]\n",
    "    \n",
    "    sum_exp = torch.sum(np.exp(diff_sq_std), dim=0)   \n",
    "    print(sum_exp.size()) # should be [M, Q]\n",
    "    \n",
    "    sum_log = torch.sum(torch.log(sum_exp))\n",
    "    print(sum_log.size()) # should be []\n",
    "    \n",
    "    return 1 / (sum_log * (2 * tensor.std()))\n",
    "    \n",
    "\n",
    "smoothing_loss(o)"
   ]
  },
  {
   "cell_type": "code",
   "execution_count": 216,
   "metadata": {},
   "outputs": [
    {
     "name": "stdout",
     "output_type": "stream",
     "text": [
      "[[[-0.9485445   1.465297    0.18930191  1.0929642 ]\n",
      "  [-0.03765534  0.42566073  0.17510444  0.2468475 ]]\n",
      "\n",
      " [[-1.311298    0.3712773  -0.5421596   0.7050627 ]\n",
      "  [-0.33587515 -0.80078125  0.14570518 -1.5718988 ]]]\n"
     ]
    },
    {
     "ename": "ValueError",
     "evalue": "Unable to create correctly shaped tuple from [(1, 1), (1, 1)]",
     "output_type": "error",
     "traceback": [
      "\u001b[0;31m---------------------------------------------------------------------------\u001b[0m",
      "\u001b[0;31mValueError\u001b[0m                                Traceback (most recent call last)",
      "\u001b[0;32m~/anaconda3/lib/python3.7/site-packages/numpy/lib/arraypad.py\u001b[0m in \u001b[0;36m_normalize_shape\u001b[0;34m(ndarray, shape, cast_to_int)\u001b[0m\n\u001b[1;32m    934\u001b[0m     \u001b[0;32mtry\u001b[0m\u001b[0;34m:\u001b[0m\u001b[0;34m\u001b[0m\u001b[0m\n\u001b[0;32m--> 935\u001b[0;31m         \u001b[0mshape_arr\u001b[0m \u001b[0;34m=\u001b[0m \u001b[0mnp\u001b[0m\u001b[0;34m.\u001b[0m\u001b[0mbroadcast_to\u001b[0m\u001b[0;34m(\u001b[0m\u001b[0mshape_arr\u001b[0m\u001b[0;34m,\u001b[0m \u001b[0;34m(\u001b[0m\u001b[0mndims\u001b[0m\u001b[0;34m,\u001b[0m \u001b[0;36m2\u001b[0m\u001b[0;34m)\u001b[0m\u001b[0;34m)\u001b[0m\u001b[0;34m\u001b[0m\u001b[0m\n\u001b[0m\u001b[1;32m    936\u001b[0m     \u001b[0;32mexcept\u001b[0m \u001b[0mValueError\u001b[0m\u001b[0;34m:\u001b[0m\u001b[0;34m\u001b[0m\u001b[0m\n",
      "\u001b[0;32m~/anaconda3/lib/python3.7/site-packages/numpy/lib/stride_tricks.py\u001b[0m in \u001b[0;36mbroadcast_to\u001b[0;34m(array, shape, subok)\u001b[0m\n\u001b[1;32m    175\u001b[0m     \"\"\"\n\u001b[0;32m--> 176\u001b[0;31m     \u001b[0;32mreturn\u001b[0m \u001b[0m_broadcast_to\u001b[0m\u001b[0;34m(\u001b[0m\u001b[0marray\u001b[0m\u001b[0;34m,\u001b[0m \u001b[0mshape\u001b[0m\u001b[0;34m,\u001b[0m \u001b[0msubok\u001b[0m\u001b[0;34m=\u001b[0m\u001b[0msubok\u001b[0m\u001b[0;34m,\u001b[0m \u001b[0mreadonly\u001b[0m\u001b[0;34m=\u001b[0m\u001b[0;32mTrue\u001b[0m\u001b[0;34m)\u001b[0m\u001b[0;34m\u001b[0m\u001b[0m\n\u001b[0m\u001b[1;32m    177\u001b[0m \u001b[0;34m\u001b[0m\u001b[0m\n",
      "\u001b[0;32m~/anaconda3/lib/python3.7/site-packages/numpy/lib/stride_tricks.py\u001b[0m in \u001b[0;36m_broadcast_to\u001b[0;34m(array, shape, subok, readonly)\u001b[0m\n\u001b[1;32m    127\u001b[0m         \u001b[0;34m(\u001b[0m\u001b[0marray\u001b[0m\u001b[0;34m,\u001b[0m\u001b[0;34m)\u001b[0m\u001b[0;34m,\u001b[0m \u001b[0mflags\u001b[0m\u001b[0;34m=\u001b[0m\u001b[0;34m[\u001b[0m\u001b[0;34m'multi_index'\u001b[0m\u001b[0;34m,\u001b[0m \u001b[0;34m'refs_ok'\u001b[0m\u001b[0;34m,\u001b[0m \u001b[0;34m'zerosize_ok'\u001b[0m\u001b[0;34m]\u001b[0m \u001b[0;34m+\u001b[0m \u001b[0mextras\u001b[0m\u001b[0;34m,\u001b[0m\u001b[0;34m\u001b[0m\u001b[0m\n\u001b[0;32m--> 128\u001b[0;31m         op_flags=[op_flag], itershape=shape, order='C')\n\u001b[0m\u001b[1;32m    129\u001b[0m     \u001b[0;32mwith\u001b[0m \u001b[0mit\u001b[0m\u001b[0;34m:\u001b[0m\u001b[0;34m\u001b[0m\u001b[0m\n",
      "\u001b[0;31mValueError\u001b[0m: operands could not be broadcast together with remapped shapes [original->remapped]: (2,2) and requested shape (3,2)",
      "\nDuring handling of the above exception, another exception occurred:\n",
      "\u001b[0;31mValueError\u001b[0m                                Traceback (most recent call last)",
      "\u001b[0;32m<ipython-input-216-69abd374f3c6>\u001b[0m in \u001b[0;36m<module>\u001b[0;34m()\u001b[0m\n\u001b[1;32m      4\u001b[0m     \u001b[0;32mreturn\u001b[0m \u001b[0mtorch\u001b[0m\u001b[0;34m.\u001b[0m\u001b[0mmin\u001b[0m\u001b[0;34m(\u001b[0m\u001b[0mdifferences\u001b[0m \u001b[0;34m**\u001b[0m\u001b[0;36m2\u001b[0m\u001b[0;34m)\u001b[0m\u001b[0;34m\u001b[0m\u001b[0m\n\u001b[1;32m      5\u001b[0m \u001b[0;34m\u001b[0m\u001b[0m\n\u001b[0;32m----> 6\u001b[0;31m \u001b[0mmin_difference\u001b[0m\u001b[0;34m(\u001b[0m\u001b[0mo\u001b[0m\u001b[0;34m)\u001b[0m\u001b[0;34m\u001b[0m\u001b[0m\n\u001b[0m",
      "\u001b[0;32m<ipython-input-216-69abd374f3c6>\u001b[0m in \u001b[0;36mmin_difference\u001b[0;34m(tensor)\u001b[0m\n\u001b[1;32m      1\u001b[0m \u001b[0;32mdef\u001b[0m \u001b[0mmin_difference\u001b[0m\u001b[0;34m(\u001b[0m\u001b[0mtensor\u001b[0m\u001b[0;34m)\u001b[0m\u001b[0;34m:\u001b[0m\u001b[0;34m\u001b[0m\u001b[0m\n\u001b[0;32m----> 2\u001b[0;31m     \u001b[0mshifts\u001b[0m \u001b[0;34m=\u001b[0m \u001b[0mall_shifts\u001b[0m\u001b[0;34m(\u001b[0m\u001b[0mtensor\u001b[0m\u001b[0;34m)\u001b[0m\u001b[0;34m\u001b[0m\u001b[0m\n\u001b[0m\u001b[1;32m      3\u001b[0m     \u001b[0mdifferences\u001b[0m \u001b[0;34m=\u001b[0m \u001b[0mtensor\u001b[0m\u001b[0;34m.\u001b[0m\u001b[0munsqueeze\u001b[0m\u001b[0;34m(\u001b[0m\u001b[0;36m0\u001b[0m\u001b[0;34m)\u001b[0m \u001b[0;34m-\u001b[0m \u001b[0mshifts\u001b[0m\u001b[0;34m\u001b[0m\u001b[0m\n\u001b[1;32m      4\u001b[0m     \u001b[0;32mreturn\u001b[0m \u001b[0mtorch\u001b[0m\u001b[0;34m.\u001b[0m\u001b[0mmin\u001b[0m\u001b[0;34m(\u001b[0m\u001b[0mdifferences\u001b[0m \u001b[0;34m**\u001b[0m\u001b[0;36m2\u001b[0m\u001b[0;34m)\u001b[0m\u001b[0;34m\u001b[0m\u001b[0m\n\u001b[1;32m      5\u001b[0m \u001b[0;34m\u001b[0m\u001b[0m\n",
      "\u001b[0;32m<ipython-input-214-2ad9c534c409>\u001b[0m in \u001b[0;36mall_shifts\u001b[0;34m(tensor, axis_offset)\u001b[0m\n\u001b[1;32m      1\u001b[0m \u001b[0;32mdef\u001b[0m \u001b[0mall_shifts\u001b[0m\u001b[0;34m(\u001b[0m\u001b[0mtensor\u001b[0m\u001b[0;34m,\u001b[0m \u001b[0maxis_offset\u001b[0m\u001b[0;34m=\u001b[0m\u001b[0;36m0\u001b[0m\u001b[0;34m)\u001b[0m\u001b[0;34m:\u001b[0m\u001b[0;34m\u001b[0m\u001b[0m\n\u001b[1;32m      2\u001b[0m \u001b[0;34m\u001b[0m\u001b[0m\n\u001b[0;32m----> 3\u001b[0;31m     \u001b[0mthinned_tensor\u001b[0m \u001b[0;34m=\u001b[0m \u001b[0mthinned\u001b[0m\u001b[0;34m(\u001b[0m\u001b[0mtensor\u001b[0m\u001b[0;34m,\u001b[0m \u001b[0maxis_offset\u001b[0m\u001b[0;34m)\u001b[0m\u001b[0;34m\u001b[0m\u001b[0m\n\u001b[0m\u001b[1;32m      4\u001b[0m \u001b[0;34m\u001b[0m\u001b[0m\n\u001b[1;32m      5\u001b[0m     \u001b[0mshifts\u001b[0m \u001b[0;34m=\u001b[0m \u001b[0;34m[\u001b[0m\u001b[0;34m]\u001b[0m\u001b[0;34m\u001b[0m\u001b[0m\n",
      "\u001b[0;32m<ipython-input-212-ad588a461759>\u001b[0m in \u001b[0;36mthinned\u001b[0;34m(tensor, axis_offset)\u001b[0m\n\u001b[1;32m     16\u001b[0m     \u001b[0mpadding_tuples\u001b[0m \u001b[0;34m=\u001b[0m \u001b[0;34m[\u001b[0m\u001b[0;34m(\u001b[0m\u001b[0;36m0\u001b[0m\u001b[0;34m,\u001b[0m \u001b[0;36m0\u001b[0m\u001b[0;34m)\u001b[0m \u001b[0;32mfor\u001b[0m \u001b[0mi\u001b[0m \u001b[0;32min\u001b[0m \u001b[0mrange\u001b[0m\u001b[0;34m(\u001b[0m\u001b[0maxis_offset\u001b[0m\u001b[0;34m)\u001b[0m\u001b[0;34m]\u001b[0m \u001b[0;34m+\u001b[0m \u001b[0;34m[\u001b[0m\u001b[0;34m(\u001b[0m\u001b[0;36m1\u001b[0m\u001b[0;34m,\u001b[0m \u001b[0;36m1\u001b[0m\u001b[0;34m)\u001b[0m\u001b[0;34m,\u001b[0m \u001b[0;34m(\u001b[0m\u001b[0;36m1\u001b[0m\u001b[0;34m,\u001b[0m \u001b[0;36m1\u001b[0m\u001b[0;34m)\u001b[0m\u001b[0;34m]\u001b[0m\u001b[0;34m\u001b[0m\u001b[0m\n\u001b[1;32m     17\u001b[0m \u001b[0;34m\u001b[0m\u001b[0m\n\u001b[0;32m---> 18\u001b[0;31m     \u001b[0;32mreturn\u001b[0m \u001b[0mtorch\u001b[0m\u001b[0;34m.\u001b[0m\u001b[0mfrom_numpy\u001b[0m\u001b[0;34m(\u001b[0m\u001b[0mnp\u001b[0m\u001b[0;34m.\u001b[0m\u001b[0mpad\u001b[0m\u001b[0;34m(\u001b[0m\u001b[0mndarray\u001b[0m\u001b[0;34m,\u001b[0m \u001b[0mpadding_tuples\u001b[0m\u001b[0;34m,\u001b[0m \u001b[0;34m\"constant\"\u001b[0m\u001b[0;34m)\u001b[0m\u001b[0;34m)\u001b[0m\u001b[0;34m\u001b[0m\u001b[0m\n\u001b[0m\u001b[1;32m     19\u001b[0m \u001b[0mo\u001b[0m \u001b[0;34m=\u001b[0m \u001b[0mtorch\u001b[0m\u001b[0;34m.\u001b[0m\u001b[0mrandn\u001b[0m\u001b[0;34m(\u001b[0m\u001b[0;36m4\u001b[0m\u001b[0;34m,\u001b[0m \u001b[0;36m4\u001b[0m\u001b[0;34m,\u001b[0m \u001b[0;36m4\u001b[0m\u001b[0;34m)\u001b[0m\u001b[0;34m\u001b[0m\u001b[0m\n\u001b[1;32m     20\u001b[0m \u001b[0mprint\u001b[0m\u001b[0;34m(\u001b[0m\u001b[0mo\u001b[0m\u001b[0;34m)\u001b[0m\u001b[0;34m\u001b[0m\u001b[0m\n",
      "\u001b[0;32m~/anaconda3/lib/python3.7/site-packages/numpy/lib/arraypad.py\u001b[0m in \u001b[0;36mpad\u001b[0;34m(array, pad_width, mode, **kwargs)\u001b[0m\n\u001b[1;32m   1198\u001b[0m \u001b[0;34m\u001b[0m\u001b[0m\n\u001b[1;32m   1199\u001b[0m     \u001b[0mnarray\u001b[0m \u001b[0;34m=\u001b[0m \u001b[0mnp\u001b[0m\u001b[0;34m.\u001b[0m\u001b[0marray\u001b[0m\u001b[0;34m(\u001b[0m\u001b[0marray\u001b[0m\u001b[0;34m)\u001b[0m\u001b[0;34m\u001b[0m\u001b[0m\n\u001b[0;32m-> 1200\u001b[0;31m     \u001b[0mpad_width\u001b[0m \u001b[0;34m=\u001b[0m \u001b[0m_validate_lengths\u001b[0m\u001b[0;34m(\u001b[0m\u001b[0mnarray\u001b[0m\u001b[0;34m,\u001b[0m \u001b[0mpad_width\u001b[0m\u001b[0;34m)\u001b[0m\u001b[0;34m\u001b[0m\u001b[0m\n\u001b[0m\u001b[1;32m   1201\u001b[0m \u001b[0;34m\u001b[0m\u001b[0m\n\u001b[1;32m   1202\u001b[0m     allowedkwargs = {\n",
      "\u001b[0;32m~/anaconda3/lib/python3.7/site-packages/numpy/lib/arraypad.py\u001b[0m in \u001b[0;36m_validate_lengths\u001b[0;34m(narray, number_elements)\u001b[0m\n\u001b[1;32m    977\u001b[0m \u001b[0;34m\u001b[0m\u001b[0m\n\u001b[1;32m    978\u001b[0m     \"\"\"\n\u001b[0;32m--> 979\u001b[0;31m     \u001b[0mnormshp\u001b[0m \u001b[0;34m=\u001b[0m \u001b[0m_normalize_shape\u001b[0m\u001b[0;34m(\u001b[0m\u001b[0mnarray\u001b[0m\u001b[0;34m,\u001b[0m \u001b[0mnumber_elements\u001b[0m\u001b[0;34m)\u001b[0m\u001b[0;34m\u001b[0m\u001b[0m\n\u001b[0m\u001b[1;32m    980\u001b[0m     \u001b[0;32mfor\u001b[0m \u001b[0mi\u001b[0m \u001b[0;32min\u001b[0m \u001b[0mnormshp\u001b[0m\u001b[0;34m:\u001b[0m\u001b[0;34m\u001b[0m\u001b[0m\n\u001b[1;32m    981\u001b[0m         \u001b[0mchk\u001b[0m \u001b[0;34m=\u001b[0m \u001b[0;34m[\u001b[0m\u001b[0;36m1\u001b[0m \u001b[0;32mif\u001b[0m \u001b[0mx\u001b[0m \u001b[0;32mis\u001b[0m \u001b[0;32mNone\u001b[0m \u001b[0;32melse\u001b[0m \u001b[0mx\u001b[0m \u001b[0;32mfor\u001b[0m \u001b[0mx\u001b[0m \u001b[0;32min\u001b[0m \u001b[0mi\u001b[0m\u001b[0;34m]\u001b[0m\u001b[0;34m\u001b[0m\u001b[0m\n",
      "\u001b[0;32m~/anaconda3/lib/python3.7/site-packages/numpy/lib/arraypad.py\u001b[0m in \u001b[0;36m_normalize_shape\u001b[0;34m(ndarray, shape, cast_to_int)\u001b[0m\n\u001b[1;32m    936\u001b[0m     \u001b[0;32mexcept\u001b[0m \u001b[0mValueError\u001b[0m\u001b[0;34m:\u001b[0m\u001b[0;34m\u001b[0m\u001b[0m\n\u001b[1;32m    937\u001b[0m         \u001b[0mfmt\u001b[0m \u001b[0;34m=\u001b[0m \u001b[0;34m\"Unable to create correctly shaped tuple from %s\"\u001b[0m\u001b[0;34m\u001b[0m\u001b[0m\n\u001b[0;32m--> 938\u001b[0;31m         \u001b[0;32mraise\u001b[0m \u001b[0mValueError\u001b[0m\u001b[0;34m(\u001b[0m\u001b[0mfmt\u001b[0m \u001b[0;34m%\u001b[0m \u001b[0;34m(\u001b[0m\u001b[0mshape\u001b[0m\u001b[0;34m,\u001b[0m\u001b[0;34m)\u001b[0m\u001b[0;34m)\u001b[0m\u001b[0;34m\u001b[0m\u001b[0m\n\u001b[0m\u001b[1;32m    939\u001b[0m \u001b[0;34m\u001b[0m\u001b[0m\n\u001b[1;32m    940\u001b[0m     \u001b[0;31m# Cast if necessary\u001b[0m\u001b[0;34m\u001b[0m\u001b[0;34m\u001b[0m\u001b[0m\n",
      "\u001b[0;31mValueError\u001b[0m: Unable to create correctly shaped tuple from [(1, 1), (1, 1)]"
     ]
    }
   ],
   "source": [
    "def min_difference(tensor):\n",
    "    shifts = all_shifts(tensor)\n",
    "    differences = tensor.unsqueeze(0) - shifts\n",
    "    return torch.min(differences **2)\n",
    "\n",
    "min_difference(o)"
   ]
  },
  {
   "cell_type": "code",
   "execution_count": 217,
   "metadata": {},
   "outputs": [
    {
     "name": "stdout",
     "output_type": "stream",
     "text": [
      "torch.Size([4, 4, 4])\n",
      "[[[ 0.6036798  -1.2814437 ]\n",
      "  [-0.35524014 -0.17107017]]\n",
      "\n",
      " [[ 0.06382474 -2.6328886 ]\n",
      "  [-1.0328299   0.47698137]]\n",
      "\n",
      " [[ 0.07336043 -0.26236013]\n",
      "  [ 0.9766886   1.4315487 ]]\n",
      "\n",
      " [[ 2.141053    0.8667802 ]\n",
      "  [ 0.3639648   0.25670803]]]\n",
      "torch.Size([8, 4, 4, 4])\n",
      "torch.Size([8, 4, 4, 4])\n",
      "torch.Size([8, 4, 4, 4])\n",
      "torch.Size([8, 4, 4, 4])\n",
      "torch.Size([4, 4, 4])\n",
      "torch.Size([])\n"
     ]
    },
    {
     "data": {
      "text/plain": [
       "tensor(0.0065)"
      ]
     },
     "execution_count": 217,
     "metadata": {},
     "output_type": "execute_result"
    }
   ],
   "source": [
    "x = torch.randn(4, 4, 4)\n",
    "smoothing_loss(x)"
   ]
  },
  {
   "cell_type": "code",
   "execution_count": null,
   "metadata": {},
   "outputs": [],
   "source": []
  }
 ],
 "metadata": {
  "kernelspec": {
   "display_name": "Python 3",
   "language": "python",
   "name": "python3"
  },
  "language_info": {
   "codemirror_mode": {
    "name": "ipython",
    "version": 3
   },
   "file_extension": ".py",
   "mimetype": "text/x-python",
   "name": "python",
   "nbconvert_exporter": "python",
   "pygments_lexer": "ipython3",
   "version": "3.7.0"
  }
 },
 "nbformat": 4,
 "nbformat_minor": 2
}
